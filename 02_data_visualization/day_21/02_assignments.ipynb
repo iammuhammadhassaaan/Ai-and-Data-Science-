{
 "cells": [
  {
   "cell_type": "markdown",
   "metadata": {},
   "source": [
    "# **Mastering Data Visualization Assignments** _Day-01_\n",
    "##### Name: Muhammad Hassaan\n",
    "##### Date: Jan 21, 2024\n",
    "##### Email: muhammadhassaan7896@gmail.com"
   ]
  },
  {
   "cell_type": "markdown",
   "metadata": {},
   "source": [
    "# Assignment:\n",
    "1. Read the documentation of each library\n",
    "2. make 10 different plot on difeerent datsets each time usong each of these four libraries\n",
    "3. interet them and provide the insights you take from each plot in 3-4 lines.\n",
    "4. Finalize one notebook"
   ]
  },
  {
   "cell_type": "markdown",
   "metadata": {},
   "source": [
    "# **1. Pandas Library**"
   ]
  },
  {
   "cell_type": "code",
   "execution_count": null,
   "metadata": {},
   "outputs": [],
   "source": []
  }
 ],
 "metadata": {
  "language_info": {
   "name": "python"
  }
 },
 "nbformat": 4,
 "nbformat_minor": 2
}

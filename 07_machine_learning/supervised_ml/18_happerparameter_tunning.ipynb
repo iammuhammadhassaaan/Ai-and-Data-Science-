{
 "cells": [
  {
   "cell_type": "markdown",
   "metadata": {},
   "source": [
    "# **Machine Learning** _Day 86_\n",
    "##### Name: Muhammad Hassaan\n",
    "##### Date: July 28, 2024\n",
    "##### Email: muhammadhassaan7896@gmail.com\n",
    "\n",
    "# **Hyperparameter Tunning**"
   ]
  },
  {
   "cell_type": "markdown",
   "metadata": {},
   "source": [
    "`Hyperparameter tunning` is the process of finding the best combinations of hyperparameters for a given model. \n",
    "\n",
    "**Types:**\n",
    "- Grid Search CV \n",
    "- Random Search \n",
    "- Bayesian OPtimization \n",
    "- Gradient Based Optimization"
   ]
  },
  {
   "cell_type": "markdown",
   "metadata": {},
   "source": [
    "# **Cross Validation**\n"
   ]
  },
  {
   "cell_type": "code",
   "execution_count": 5,
   "metadata": {},
   "outputs": [],
   "source": [
    "# import libraries \n",
    "import pandas as pd \n",
    "import numpy as np\n",
    "import matplotlib.pyplot as plt\n",
    "import seaborn as sns\n",
    "from sklearn.ensemble import RandomForestClassifier\n",
    "from sklearn.model_selection import train_test_split, GridSearchCV, RandomizedSearchCV\n",
    "from sklearn.metrics import confusion_matrix, classification_report, accuracy_score"
   ]
  },
  {
   "cell_type": "code",
   "execution_count": 2,
   "metadata": {},
   "outputs": [],
   "source": [
    "# load the data \n",
    "from sklearn.datasets import load_iris\n",
    "\n",
    "iris = load_iris()\n",
    "\n",
    "X = iris.data\n",
    "y = iris.target"
   ]
  },
  {
   "cell_type": "code",
   "execution_count": 4,
   "metadata": {},
   "outputs": [
    {
     "name": "stdout",
     "output_type": "stream",
     "text": [
      "Fitting 5 folds for each of 36 candidates, totalling 180 fits\n"
     ]
    },
    {
     "name": "stderr",
     "output_type": "stream",
     "text": [
      "c:\\Users\\muham\\miniconda3\\envs\\python_ml\\Lib\\site-packages\\numpy\\ma\\core.py:2846: RuntimeWarning: invalid value encountered in cast\n",
      "  _data = np.array(data, dtype=dtype, copy=copy,\n"
     ]
    },
    {
     "name": "stdout",
     "output_type": "stream",
     "text": [
      "Best Parameters:{'criterion': 'gini', 'max_depth': 4, 'n_estimators': 50}\n"
     ]
    }
   ],
   "source": [
    "# define the model \n",
    "model = RandomForestClassifier()\n",
    "\n",
    "# create the parameter grid \n",
    "param_grid = {'n_estimators': [10,50,100, 200, 300, 500],\n",
    "    'max_depth': [4,5,6],\n",
    "    'criterion': ['gini', 'entropy']\n",
    "}\n",
    "\n",
    "# create the grid search\n",
    "grid_search = GridSearchCV(\n",
    "    estimator = model,\n",
    "    param_grid = param_grid,\n",
    "    cv = 5,\n",
    "    n_jobs = -1,\n",
    "    verbose = 1,\n",
    "    scoring = 'accuracy'\n",
    ")\n",
    "\n",
    "# fit the model \n",
    "grid_search.fit(X, y)\n",
    "\n",
    "# print the best parameters\n",
    "print(f'Best Parameters:{grid_search.best_params_}')\n"
   ]
  },
  {
   "cell_type": "code",
   "execution_count": 7,
   "metadata": {},
   "outputs": [
    {
     "name": "stdout",
     "output_type": "stream",
     "text": [
      "Fitting 5 folds for each of 20 candidates, totalling 100 fits\n",
      "Best Parameters:{'n_estimators': 300, 'max_depth': 6, 'criterion': 'entropy'}\n"
     ]
    }
   ],
   "source": [
    "# define the model \n",
    "model = RandomizedSearchCV(\n",
    "    estimator = model,\n",
    "    param_distributions = param_grid,\n",
    "    cv = 5,\n",
    "    n_jobs = -1,\n",
    "    verbose = 1,\n",
    "    scoring = 'accuracy',\n",
    "    n_iter=20\n",
    ")\n",
    "\n",
    "\n",
    "# fit the model \n",
    "model.fit(X, y)\n",
    "\n",
    "# print the best parameters\n",
    "print(f'Best Parameters:{model.best_params_}')"
   ]
  },
  {
   "cell_type": "code",
   "execution_count": null,
   "metadata": {},
   "outputs": [],
   "source": []
  }
 ],
 "metadata": {
  "kernelspec": {
   "display_name": "python_ml",
   "language": "python",
   "name": "python3"
  },
  "language_info": {
   "codemirror_mode": {
    "name": "ipython",
    "version": 3
   },
   "file_extension": ".py",
   "mimetype": "text/x-python",
   "name": "python",
   "nbconvert_exporter": "python",
   "pygments_lexer": "ipython3",
   "version": "3.11.9"
  }
 },
 "nbformat": 4,
 "nbformat_minor": 2
}

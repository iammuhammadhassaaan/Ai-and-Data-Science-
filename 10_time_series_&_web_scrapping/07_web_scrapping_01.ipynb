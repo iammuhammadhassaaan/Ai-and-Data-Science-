{
 "cells": [
  {
   "cell_type": "markdown",
   "metadata": {},
   "source": [
    "# **Web Scrapping** _Day 126_\n",
    "##### Name: Muhammad Hassaan\n",
    "##### Date: August 30, 2024\n",
    "##### Email: muhammadhassaan7896@gmail.com"
   ]
  },
  {
   "cell_type": "code",
   "execution_count": 2,
   "metadata": {},
   "outputs": [],
   "source": [
    "# import libraries\n",
    "import pandas as pd\n",
    "from bs4 import BeautifulSoup\n",
    "import requests"
   ]
  },
  {
   "cell_type": "code",
   "execution_count": 3,
   "metadata": {},
   "outputs": [
    {
     "name": "stdout",
     "output_type": "stream",
     "text": [
      "World population - Wikipedia\n"
     ]
    }
   ],
   "source": [
    "url = \"https://en.wikipedia.org/wiki/World_population\"\n",
    "response = requests.get(url)\n",
    "\n",
    "soup = BeautifulSoup(response.content, \"html.parser\")\n",
    "\n",
    "print(soup.title.text)"
   ]
  },
  {
   "cell_type": "code",
   "execution_count": 5,
   "metadata": {},
   "outputs": [],
   "source": [
    "## print the whole html code\n",
    "# print(soup.prettify())"
   ]
  },
  {
   "cell_type": "code",
   "execution_count": 13,
   "metadata": {},
   "outputs": [],
   "source": [
    "# find all the tables\n",
    "tables = soup.find_all('table')\n",
    "\n",
    "dataframe = []\n",
    "\n",
    "# Iterate over each table\n",
    "for table in tables:\n",
    "    # Find all rows in the table, skipping the header row\n",
    "    rows = table.find_all(\"tr\")[1:]\n",
    "    \n",
    "    # Create an empty list to store the table data\n",
    "    table_data = []\n",
    "    \n",
    "    # Iterate over each row\n",
    "    for row in rows:\n",
    "        # Find all columns in the row\n",
    "        cols = row.find_all('td')\n",
    "        \n",
    "        # Extract the text from each column and strip whitespace\n",
    "        cols = [col.text.strip() for col in cols]\n",
    "        \n",
    "        # Add the row data to the table data\n",
    "        table_data.append(cols)\n",
    "    \n",
    "    # Create a pandas dataframe from the table data\n",
    "    df = pd.DataFrame(table_data)\n",
    "    \n",
    "    # Add the dataframe to the list of dataframes\n",
    "    dataframe.append(df)"
   ]
  },
  {
   "cell_type": "code",
   "execution_count": 28,
   "metadata": {},
   "outputs": [
    {
     "data": {
      "text/html": [
       "<div>\n",
       "<style scoped>\n",
       "    .dataframe tbody tr th:only-of-type {\n",
       "        vertical-align: middle;\n",
       "    }\n",
       "\n",
       "    .dataframe tbody tr th {\n",
       "        vertical-align: top;\n",
       "    }\n",
       "\n",
       "    .dataframe thead th {\n",
       "        text-align: right;\n",
       "    }\n",
       "</style>\n",
       "<table border=\"1\" class=\"dataframe\">\n",
       "  <thead>\n",
       "    <tr style=\"text-align: right;\">\n",
       "      <th></th>\n",
       "      <th>0</th>\n",
       "      <th>1</th>\n",
       "      <th>2</th>\n",
       "      <th>3</th>\n",
       "      <th>4</th>\n",
       "    </tr>\n",
       "  </thead>\n",
       "  <tbody>\n",
       "    <tr>\n",
       "      <th>0</th>\n",
       "      <td>Asia</td>\n",
       "      <td>104.1</td>\n",
       "      <td>4,641</td>\n",
       "      <td>1,439,090,595 –  India</td>\n",
       "      <td>13,515,000 –  Tokyo Metropolis(37,400,000 –  G...</td>\n",
       "    </tr>\n",
       "    <tr>\n",
       "      <th>1</th>\n",
       "      <td>Africa</td>\n",
       "      <td>44.4</td>\n",
       "      <td>1,340</td>\n",
       "      <td>0,211,401,000 –  Nigeria</td>\n",
       "      <td>09,500,000 –  Cairo(20,076,000 –  Greater Cairo)</td>\n",
       "    </tr>\n",
       "    <tr>\n",
       "      <th>2</th>\n",
       "      <td>Europe</td>\n",
       "      <td>73.4</td>\n",
       "      <td>747</td>\n",
       "      <td>0,146,171,000 –  Russia, approx. 110 million i...</td>\n",
       "      <td>13,200,000 –  Moscow(20,004,000 –  Moscow metr...</td>\n",
       "    </tr>\n",
       "    <tr>\n",
       "      <th>3</th>\n",
       "      <td>Latin America</td>\n",
       "      <td>24.1</td>\n",
       "      <td>653</td>\n",
       "      <td>0,214,103,000 –  Brazil</td>\n",
       "      <td>12,252,000 –  São Paulo City(21,650,000 –  São...</td>\n",
       "    </tr>\n",
       "    <tr>\n",
       "      <th>4</th>\n",
       "      <td>Northern America[note 1]</td>\n",
       "      <td>14.9</td>\n",
       "      <td>368</td>\n",
       "      <td>0,332,909,000 –  United States</td>\n",
       "      <td>08,804,000 –  New York City(23,582,649 –  New ...</td>\n",
       "    </tr>\n",
       "    <tr>\n",
       "      <th>5</th>\n",
       "      <td>Oceania</td>\n",
       "      <td>5</td>\n",
       "      <td>42</td>\n",
       "      <td>0,025,917,000 –  Australia</td>\n",
       "      <td>05,367,000 –  Sydney</td>\n",
       "    </tr>\n",
       "    <tr>\n",
       "      <th>6</th>\n",
       "      <td>Antarctica</td>\n",
       "      <td>~0</td>\n",
       "      <td>0.004[87]</td>\n",
       "      <td>N/A[note 2]</td>\n",
       "      <td>00,001,258 –  McMurdo Station</td>\n",
       "    </tr>\n",
       "  </tbody>\n",
       "</table>\n",
       "</div>"
      ],
      "text/plain": [
       "                          0      1          2  \\\n",
       "0                      Asia  104.1      4,641   \n",
       "1                    Africa   44.4      1,340   \n",
       "2                    Europe   73.4        747   \n",
       "3             Latin America   24.1        653   \n",
       "4  Northern America[note 1]   14.9        368   \n",
       "5                   Oceania      5         42   \n",
       "6                Antarctica     ~0  0.004[87]   \n",
       "\n",
       "                                                   3  \\\n",
       "0                             1,439,090,595 –  India   \n",
       "1                           0,211,401,000 –  Nigeria   \n",
       "2  0,146,171,000 –  Russia, approx. 110 million i...   \n",
       "3                            0,214,103,000 –  Brazil   \n",
       "4                     0,332,909,000 –  United States   \n",
       "5                         0,025,917,000 –  Australia   \n",
       "6                                        N/A[note 2]   \n",
       "\n",
       "                                                   4  \n",
       "0  13,515,000 –  Tokyo Metropolis(37,400,000 –  G...  \n",
       "1   09,500,000 –  Cairo(20,076,000 –  Greater Cairo)  \n",
       "2  13,200,000 –  Moscow(20,004,000 –  Moscow metr...  \n",
       "3  12,252,000 –  São Paulo City(21,650,000 –  São...  \n",
       "4  08,804,000 –  New York City(23,582,649 –  New ...  \n",
       "5                               05,367,000 –  Sydney  \n",
       "6                      00,001,258 –  McMurdo Station  "
      ]
     },
     "execution_count": 28,
     "metadata": {},
     "output_type": "execute_result"
    }
   ],
   "source": [
    "dataframe[3]"
   ]
  },
  {
   "cell_type": "code",
   "execution_count": 29,
   "metadata": {},
   "outputs": [],
   "source": [
    "# # save to csv\n",
    "# dataframe[1].to_csv('world_population_01.csv', index=False, header=False)"
   ]
  }
 ],
 "metadata": {
  "kernelspec": {
   "display_name": "web_scrapping",
   "language": "python",
   "name": "python3"
  },
  "language_info": {
   "codemirror_mode": {
    "name": "ipython",
    "version": 3
   },
   "file_extension": ".py",
   "mimetype": "text/x-python",
   "name": "python",
   "nbconvert_exporter": "python",
   "pygments_lexer": "ipython3",
   "version": "3.11.9"
  }
 },
 "nbformat": 4,
 "nbformat_minor": 2
}

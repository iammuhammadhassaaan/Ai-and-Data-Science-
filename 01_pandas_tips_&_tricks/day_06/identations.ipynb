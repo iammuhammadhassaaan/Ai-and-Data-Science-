{
 "cells": [
  {
   "cell_type": "code",
   "execution_count": 4,
   "metadata": {},
   "outputs": [
    {
     "name": "stdout",
     "output_type": "stream",
     "text": [
      "c is greater than b\n"
     ]
    }
   ],
   "source": [
    "a = 5\n",
    "b = 15\n",
    "c = 20.5\n",
    "\n",
    "# print(a)\n",
    "\n",
    "# print(a < b)\n",
    "\n",
    "# # if a < b:\n",
    "# #     print(\"a is less than b\")\n",
    "\n",
    "if c < b:\n",
    "    print(\"c is less than b\")\n",
    "\n",
    "else:\n",
    "    print(\"c is greater than b\")\n"
   ]
  },
  {
   "cell_type": "code",
   "execution_count": 2,
   "metadata": {},
   "outputs": [
    {
     "name": "stdout",
     "output_type": "stream",
     "text": [
      "nvnm\n",
      "hello nvnm\n"
     ]
    }
   ],
   "source": [
    "name = input()\n",
    "print(name)\n",
    "\n",
    "print(\"hello\", name)"
   ]
  },
  {
   "cell_type": "code",
   "execution_count": 3,
   "metadata": {},
   "outputs": [
    {
     "name": "stdout",
     "output_type": "stream",
     "text": [
      "Hello, Hassaan. You are older than Ali.\n"
     ]
    }
   ],
   "source": [
    "person_A_name = input(\"What is your name?\")\n",
    "person_A_age = input(\"Enter your age\")\n",
    "\n",
    "person_B_name = input(\"What is your name?\")\n",
    "person_B_age = input(\"Enter your age\")\n",
    "\n",
    "if person_A_age > person_B_age:\n",
    "    print(\"Hello, \" + person_A_name + \". You are older than \" +  person_B_name +\".\")\n",
    "\n",
    "else:\n",
    "    print(\"Hello, \" + person_B_name+ \". You are older than \" +  person_A_name +\".\")"
   ]
  }
 ],
 "metadata": {
  "kernelspec": {
   "display_name": "Python 3",
   "language": "python",
   "name": "python3"
  },
  "language_info": {
   "codemirror_mode": {
    "name": "ipython",
    "version": 3
   },
   "file_extension": ".py",
   "mimetype": "text/x-python",
   "name": "python",
   "nbconvert_exporter": "python",
   "pygments_lexer": "ipython3",
   "version": "3.11.7"
  }
 },
 "nbformat": 4,
 "nbformat_minor": 2
}
